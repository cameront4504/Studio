{
  "nbformat": 4,
  "nbformat_minor": 0,
  "metadata": {
    "colab": {
      "name": "rimeoftheancientshadowoverinnsmouth.ipynb",
      "provenance": [],
      "collapsed_sections": [],
      "authorship_tag": "ABX9TyPuB/8GxzalL592wTEfTFZj",
      "include_colab_link": true
    },
    "kernelspec": {
      "name": "python3",
      "display_name": "Python 3"
    }
  },
  "cells": [
    {
      "cell_type": "markdown",
      "metadata": {
        "id": "view-in-github",
        "colab_type": "text"
      },
      "source": [
        "<a href=\"https://colab.research.google.com/github/cameront4504/Studio-1/blob/master/rimeoftheancientshadowoverinnsmouth.ipynb\" target=\"_parent\"><img src=\"https://colab.research.google.com/assets/colab-badge.svg\" alt=\"Open In Colab\"/></a>"
      ]
    },
    {
      "cell_type": "code",
      "metadata": {
        "colab": {
          "base_uri": "https://localhost:8080/"
        },
        "id": "j6tI6hxGo2nQ",
        "outputId": "a16b197b-f6b3-4c1c-d1c0-86655894ea3d"
      },
      "source": [
        "pip install markovify"
      ],
      "execution_count": 1,
      "outputs": [
        {
          "output_type": "stream",
          "text": [
            "Collecting markovify\n",
            "  Downloading https://files.pythonhosted.org/packages/33/92/4036691c7ea53e545e98e0ffffcef357ca19aa2405df366ae5b8b7da391a/markovify-0.8.3.tar.gz\n",
            "Collecting unidecode\n",
            "\u001b[?25l  Downloading https://files.pythonhosted.org/packages/74/65/91eab655041e9e92f948cb7302e54962035762ce7b518272ed9d6b269e93/Unidecode-1.1.2-py2.py3-none-any.whl (239kB)\n",
            "\u001b[K     |████████████████████████████████| 245kB 6.3MB/s \n",
            "\u001b[?25hBuilding wheels for collected packages: markovify\n",
            "  Building wheel for markovify (setup.py) ... \u001b[?25l\u001b[?25hdone\n",
            "  Created wheel for markovify: filename=markovify-0.8.3-cp36-none-any.whl size=18415 sha256=6a5d69d063d763b5d2199cf8332830f0379491268f07c304d3599497ed67ad37\n",
            "  Stored in directory: /root/.cache/pip/wheels/5e/e5/be/8e61715070048813947af5fb32f47b4cf9dddd37c965800bdb\n",
            "Successfully built markovify\n",
            "Installing collected packages: unidecode, markovify\n",
            "Successfully installed markovify-0.8.3 unidecode-1.1.2\n"
          ],
          "name": "stdout"
        }
      ]
    },
    {
      "cell_type": "code",
      "metadata": {
        "id": "ZH3yAPSlo6zZ"
      },
      "source": [
        "import markovify\r\n",
        "import random"
      ],
      "execution_count": 11,
      "outputs": []
    },
    {
      "cell_type": "code",
      "metadata": {
        "colab": {
          "base_uri": "https://localhost:8080/"
        },
        "id": "yRRqwDJ9plv5",
        "outputId": "4d97019d-f49e-4e56-f175-ff8cfe6877fa"
      },
      "source": [
        "# create string to hold markovify chains\r\n",
        "novel = \"\"\r\n",
        "\r\n",
        "# Original Text Source\r\n",
        "with open(\"rime.txt\") as f:\r\n",
        "    text = f.read()\r\n",
        "\r\n",
        "# Applying Markovify\r\n",
        "text_model = markovify.Text(text)\r\n",
        "\r\n",
        "# Conjure five randomly-generated sentences\r\n",
        "for i in range(5):\r\n",
        "    novel += str(text_model.make_sentence())\r\n",
        "    novel += \"\\n\"\r\n",
        "\r\n",
        "    # playing w/ random\r\n",
        "    \"\"\"randomInt = random.randint(0,100)\r\n",
        "    if (randomInt < 6):\r\n",
        "    \"\"\"\r\n",
        "\r\n",
        "# Print result\r\n",
        "print(novel)"
      ],
      "execution_count": 47,
      "outputs": [
        {
          "output_type": "stream",
          "text": [
            "We drifted o'er the harbour-bar, And I blessed them unaware.\n",
            "And still it neared and neared: As if it had been a Christian soul, We hailed it in God's name.\n",
            "The ice did split with a ghastly pang, And cursed me with his eye.\n",
            "Upon the whirl, where sank the ship, Moved onward from beneath.\n",
            "He prayeth best, who loveth best All things both great and small; For the sky I heard the Pilot's boat.\n",
            "\n"
          ],
          "name": "stdout"
        }
      ]
    },
    {
      "cell_type": "code",
      "metadata": {
        "id": "aH7d2gZ9uJ2y"
      },
      "source": [
        "# Convert to PDF\r\n",
        "\r\n",
        "#placeholder code here"
      ],
      "execution_count": null,
      "outputs": []
    },
    {
      "cell_type": "code",
      "metadata": {
        "colab": {
          "base_uri": "https://localhost:8080/"
        },
        "id": "G4LhHAyDsLC_",
        "outputId": "356217fd-7594-4322-8db9-c3c2d3e9dcbf"
      },
      "source": [
        "# Get wordcount on novel\r\n",
        "len(novel)"
      ],
      "execution_count": 35,
      "outputs": [
        {
          "output_type": "execute_result",
          "data": {
            "text/plain": [
              "42610"
            ]
          },
          "metadata": {
            "tags": []
          },
          "execution_count": 35
        }
      ]
    }
  ]
}